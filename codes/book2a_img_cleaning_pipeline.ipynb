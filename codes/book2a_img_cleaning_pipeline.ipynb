{
 "cells": [
  {
   "cell_type": "code",
   "execution_count": 1,
   "metadata": {},
   "outputs": [],
   "source": [
    "import numpy as np\n",
    "import pandas as pd\n",
    "import seaborn as sns\n",
    "\n",
    "#image preprocessing\n",
    "import os\n",
    "from PIL import Image\n",
    "\n",
    "#visualise images\n",
    "import matplotlib.pyplot as plt\n",
    "import matplotlib.image as img"
   ]
  },
  {
   "cell_type": "code",
   "execution_count": 9,
   "metadata": {},
   "outputs": [],
   "source": [
    "#full dataset\n",
    "auth_dir = '/Users/kenny/Dropbox/GA/images/auth'\n",
    "rep_dir = '/Users/kenny/Dropbox/GA/images/rep'\n",
    "\n",
    "#we dont want to include files such as .DS_Store\n",
    "auth = [i for i in os.listdir(auth_dir) if not i.startswith('.')]\n",
    "rep = [i for i in os.listdir(rep_dir) if not i.startswith('.')]"
   ]
  },
  {
   "cell_type": "code",
   "execution_count": 10,
   "metadata": {},
   "outputs": [],
   "source": [
    "is_rep = [\"auth\" if i < len((auth)) else \"rep\" for i in range(len(im_lst))]"
   ]
  },
  {
   "cell_type": "code",
   "execution_count": 11,
   "metadata": {},
   "outputs": [],
   "source": [
    "im_lst = auth + rep"
   ]
  },
  {
   "cell_type": "code",
   "execution_count": 12,
   "metadata": {},
   "outputs": [
    {
     "data": {
      "image/png": "[encoded data removed]",
      "text/plain": [
       "<Figure size 432x288 with 1 Axes>"
      ]
     },
     "metadata": {
      "needs_background": "light"
     },
     "output_type": "display_data"
    }
   ],
   "source": [
    "sns.countplot(is_rep);"
   ]
  },
  {
   "cell_type": "code",
   "execution_count": 28,
   "metadata": {},
   "outputs": [
    {
     "name": "stderr",
     "output_type": "stream",
     "text": [
      "/opt/anaconda3/lib/python3.7/site-packages/PIL/Image.py:2766: DecompressionBombWarning: Image size (108000000 pixels) exceeds limit of 89478485 pixels, could be decompression bomb DOS attack.\n",
      "  DecompressionBombWarning,\n"
     ]
    }
   ],
   "source": [
    "im_size = []\n",
    "\n",
    "for i in range(len(im_lst)):\n",
    "    try:\n",
    "        temp_path = f\"/Users/kenny/Dropbox/GA/images/{is_rep[i]}/{im_lst[i]}\"\n",
    "        im = Image.open(temp_path)\n",
    "        im_size.append(im.size)\n",
    "    except FileNotFoundError:\n",
    "        print(\"FileNotFoundError\")"
   ]
  },
  {
   "cell_type": "code",
   "execution_count": null,
   "metadata": {},
   "outputs": [],
   "source": [
    "len(im_size)"
   ]
  },
  {
   "cell_type": "code",
   "execution_count": 39,
   "metadata": {},
   "outputs": [
    {
     "data": {
      "text/plain": [
       "<matplotlib.axes._subplots.AxesSubplot at 0x1a689b4790>"
      ]
     },
     "execution_count": 39,
     "metadata": {},
     "output_type": "execute_result"
    },
    {
     "data": {
      "image/png": "[encoded data removed]",
      "text/plain": [
       "<Figure size 432x288 with 1 Axes>"
      ]
     },
     "metadata": {
      "needs_background": "light"
     },
     "output_type": "display_data"
    }
   ],
   "source": [
    "sns.boxplot(im_size)"
   ]
  },
  {
   "cell_type": "code",
   "execution_count": 40,
   "metadata": {},
   "outputs": [
    {
     "data": {
      "text/plain": [
       "<matplotlib.axes._subplots.AxesSubplot at 0x1a68a42350>"
      ]
     },
     "execution_count": 40,
     "metadata": {},
     "output_type": "execute_result"
    },
    {
     "data": {
      "image/png": "[encoded data removed]",
      "text/plain": [
       "<Figure size 432x288 with 1 Axes>"
      ]
     },
     "metadata": {
      "needs_background": "light"
     },
     "output_type": "display_data"
    }
   ],
   "source": [
    "sns.distplot(im_size)"
   ]
  },
  {
   "cell_type": "code",
   "execution_count": 67,
   "metadata": {},
   "outputs": [],
   "source": [
    "def convert(size, box):\n",
    "    dw = 1./size[0]\n",
    "    dh = 1./size[1]\n",
    "    x = (box[0] + box[1])/2.0\n",
    "    y = (box[2] + box[3])/2.0\n",
    "    w = box[1] - box[0]\n",
    "    h = box[3] - box[2]\n",
    "    x = x*dw\n",
    "    w = w*dw\n",
    "    y = y*dh\n",
    "    h = h*dh\n",
    "    return (x,y,w,h)"
   ]
  },
  {
   "cell_type": "code",
   "execution_count": 66,
   "metadata": {},
   "outputs": [
    {
     "name": "stdout",
     "output_type": "stream",
     "text": [
      "actual:(0.493333333333, 0.502222222222, 0.773333333333, 0.364444444444)\n",
      "image size: (225, 225)\n",
      "box: [20, 75, 180, 85]\n"
     ]
    }
   ],
   "source": [
    "im_path = '/Users/kenny/Desktop/DSI15/projects/capstone_all/capstone/darknet/shoes/images/xshoes_132.jpg'\n",
    "bbox_path = '/Users/kenny/Desktop/DSI15/projects/capstone_all/capstone/darknet/shoes/labels/xshoes_132.txt'\n",
    "\n",
    "#read in coords\n",
    "file1 = open(bbox_path,\"r\") \n",
    "items = [float(i) for i in file1.read()[2:-1].split(' ')]\n",
    "#save coords\n",
    "x, y, width, height = items\n",
    "print(f'actual:{x, y, width, height}')\n",
    "\n",
    "#open img\n",
    "im = Image.open(im_path)\n",
    "size = im.size\n",
    "print(f'image size: {size}')\n",
    "\n",
    "box = [20, 75, 180, 85]\n",
    "print(f'box: {box}')"
   ]
  },
  {
   "cell_type": "code",
   "execution_count": 68,
   "metadata": {},
   "outputs": [
    {
     "data": {
      "text/plain": [
       "(0.2111111111111111,\n",
       " 0.5888888888888889,\n",
       " 0.24444444444444444,\n",
       " -0.4222222222222222)"
      ]
     },
     "execution_count": 68,
     "metadata": {},
     "output_type": "execute_result"
    }
   ],
   "source": [
    "convert(size,box)"
   ]
  },
  {
   "cell_type": "code",
   "execution_count": 56,
   "metadata": {},
   "outputs": [
    {
     "data": {
      "image/png": "[encoded data removed]",
      "text/plain": [
       "<Figure size 432x288 with 1 Axes>"
      ]
     },
     "metadata": {
      "needs_background": "light"
     },
     "output_type": "display_data"
    }
   ],
   "source": [
    "rectangle = plt.Rectangle((20,75), 180, 85,\n",
    "              fill=False, edgecolor='blue', linewidth=2)\n",
    "fig = plt.imshow(im)\n",
    "fig.axes.add_patch(rectangle);"
   ]
  }
 ],
 "metadata": {
  "kernelspec": {
   "display_name": "Python 3",
   "language": "python",
   "name": "python3"
  },
  "language_info": {
   "codemirror_mode": {
    "name": "ipython",
    "version": 3
   },
   "file_extension": ".py",
   "mimetype": "text/x-python",
   "name": "python",
   "nbconvert_exporter": "python",
   "pygments_lexer": "ipython3",
   "version": "3.7.6"
  }
 },
 "nbformat": 4,
 "nbformat_minor": 4
}
