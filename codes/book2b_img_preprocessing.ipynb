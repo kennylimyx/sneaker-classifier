{
 "cells": [
  {
   "cell_type": "markdown",
   "metadata": {},
   "source": [
    "# Capstone Project  - Classifying Authentic and Replica Sneakers: Book 2b\n",
    "\n",
    "Done by: Kenny Lim, GA-DSI15\n",
    "\n",
    "## Problem Statement\n",
    "\n",
    "The sneaker resale market is an estimated 2 billion USD in secondary market in 2019. Estimated to be USD6 billion by 2025 according to research firm, Cowen & Co. Due to the lucrative nature of these commodities, there is the inevitable rise of counterfeits. The counterfeit sneakers sales was USD520 billion or 3.3% in global trade in 2018 and it is costing us in various ways. \n",
    "\n",
    "The costs to the brands include: \n",
    "1. Undercutting sales from the brands. Online counterfeit sales are responsible for approximately USD30.3 billion in annual losses to luxury brands, according to data service firm ResearchAndMarkets’ Global Brand Counterfeiting Report. \n",
    "2. Brands have to deal with the backlash from customers who have had bad experiences from fakes. Additional resources have to be allocated to deal with this\n",
    "3. Reputation damage\n",
    "\n",
    "Costs to countries:\n",
    "1. US Customs and Border Protection (CBP) official stated: \"However, these items often fund national and transnational criminal organizations, and cost taxpayers billions. \" (Oct 2019)\n",
    "\n",
    "Costs to collectors: \n",
    "1. We just want real sneakers man\n",
    "\n",
    "In light of this, we want to be able to differentiate real and fake sneakers. Our task is to build a classifier that is able to differentiate between real and fake sneakers. Our primary audience will be the sneaker brands and the CBP. \n",
    "\n",
    "To do so, we will first be scrapping data from reddit and imgur. We will then ve using a classification model such as CNN to diffentiate between the authentic and the replicas. We will measure our success using several classification metrics including accuracy and ROCAUC. \n",
    "\n",
    "With this, we also hope to help buyers inform themselves and to stay away from counterfeits. Empowering the public with information, they will be able to make the right decision which could help to reduce the lucrative nature of fake sneakers. \n",
    "\n",
    "\n",
    "## Executive Summary\n",
    "\n",
    "To combat the increasingly lucrative business of counterfeit sneakers, due to the rise of a sneaker cult following, the goal was to train a Convolutional Neural Network model to classify 2 binary outcome: Authentic or Replica sneakers.\n",
    "\n",
    "Web scraping was performed to collect a dataset consisting of approximately 20,000 images. The [Data Scraping notebook](./book1_data_scrapping_cleaning.ipynb) can be run periodically to obtain more data over time. Eventually, we came up with a 53/47% split between authentic and replica sneakers respectively. \n",
    "\n",
    "As the replicas become more and more accurate to the orignals, the shade of colour and size/shape of details (logos, silhouette) on the sneakers are especially important in our case. The choice was made to maintain the RGB (coloured) and aspect ratios of the images, in the preprocessing of the images \n",
    "\n",
    "Our classifier was successful in predicting at an 0.84 ROCAUC score and F1 score of 0.79. We also chose the F1 score because false positive and false negatives were just as damaging to us. \n",
    "\n",
    "Overall, there are still areas of improvement but moving forward the first step is definitely to achieve web deployment. \n",
    "\n",
    "## Notebooks:\n",
    "- [Data Scrapping and Cleaning](./book1_data_scrapping_cleaning.ipynb)\n",
    "- [Image Selection](./book2a_img_selection.ipynb)\n",
    "- [Image Preprocessing](./book2b_img_preprocessing.ipynb)\n",
    "- [Modeling and Recommendations](./book3_modeling_conclusions.ipynb)\n",
    "\n",
    "## Contents:\n",
    "- [Import Libraries](#Import-Libraries)\n",
    "- [Import Data](#Import-Data)\n",
    "- [Image Preprocessing](#Image-Preprocessing)\n",
    "- [Train Test Split](#Train-Test-Split)\n",
    "- [Save Image Array Data to npy](#Save-Image-Array-Data-to-npy)"
   ]
  },
  {
   "cell_type": "markdown",
   "metadata": {},
   "source": [
    "## Import Libraries"
   ]
  },
  {
   "cell_type": "code",
   "execution_count": 1,
   "metadata": {},
   "outputs": [],
   "source": [
    "import numpy as np\n",
    "\n",
    "#for reproducibility\n",
    "np.random.seed(15)\n",
    "\n",
    "#image preprocessing\n",
    "import os\n",
    "from PIL import Image\n",
    "import random\n",
    "\n",
    "#plotting\n",
    "import matplotlib.pyplot as plt\n",
    "#import matplotlib.image as img\n",
    "\n",
    "#split dataset\n",
    "from sklearn.model_selection import train_test_split"
   ]
  },
  {
   "cell_type": "markdown",
   "metadata": {},
   "source": [
    "## Import Data"
   ]
  },
  {
   "cell_type": "markdown",
   "metadata": {},
   "source": [
    "By getting images from the directory itself, we elimiate corrupt images and single channel images that were sieved out earlier"
   ]
  },
  {
   "cell_type": "code",
   "execution_count": 2,
   "metadata": {},
   "outputs": [],
   "source": [
    "#full dataset\n",
    "auth_dir = '/Users/kenny/Dropbox/GA/capstone_assets/images/det/auth_det'\n",
    "rep_dir = '/Users/kenny/Dropbox/GA/capstone_assets/images/det/rep_det'\n",
    "\n",
    "#we dont want to include files such as .DS_Store\n",
    "auth = [i for i in os.listdir(auth_dir) if not i.startswith('.')]\n",
    "rep = [i for i in os.listdir(rep_dir) if not i.startswith('.')]"
   ]
  },
  {
   "cell_type": "code",
   "execution_count": 3,
   "metadata": {},
   "outputs": [
    {
     "name": "stdout",
     "output_type": "stream",
     "text": [
      "Authentic Images: 8335\n",
      "Replica Images: 5347\n",
      "Total Images: 13682\n"
     ]
    }
   ],
   "source": [
    "#check the number of images we have\n",
    "print(f'Authentic Images: {len(auth)}')\n",
    "print(f'Replica Images: {len(rep)}')\n",
    "\n",
    "#merge lists and check length\n",
    "img_lst = auth + rep\n",
    "print(f'Total Images: {len(img_lst)}')"
   ]
  },
  {
   "cell_type": "markdown",
   "metadata": {},
   "source": [
    "## Image Preprocessing"
   ]
  },
  {
   "cell_type": "markdown",
   "metadata": {},
   "source": [
    "#### Convert to 3 channel, resize and pad"
   ]
  },
  {
   "cell_type": "code",
   "execution_count": 9,
   "metadata": {},
   "outputs": [],
   "source": [
    "#function to resize images\n",
    "def resize_img(name, is_rep, resize_config = 150):\n",
    "    temp_path = f\"/Users/kenny/Dropbox/GA/capstone_assets/images/det/{is_rep}_det/{name}\"   #change to file path where your images are stored\n",
    "    im = Image.open(temp_path)                                      #open image\n",
    "    \n",
    "    #calculate aspect ratio\n",
    "    org_size = im.size                                              #get current image size\n",
    "    ratio = float(resize_config)/max(org_size)                      #calculate aspect ratio\n",
    "    new_size = tuple([int(x * ratio) for x in org_size])            #calculate new size\n",
    "\n",
    "    new_im = im.convert(mode='RGB')                                 #ensure all images are RGB\n",
    "    new_im = new_im.resize(new_size, Image.LANCZOS)                 #resize to new size\n",
    "\n",
    "    canvas = Image.new(\"RGB\", (resize_config, resize_config))       #create empty image to paste on\n",
    "    canvas.paste(new_im, ((resize_config-new_size[0])//2,           #padding\n",
    "                         (resize_config-new_size[1])//2))\n",
    "    \n",
    "    #return img as array\n",
    "    return np.array(canvas)                                         #convert to np array"
   ]
  },
  {
   "cell_type": "code",
   "execution_count": 10,
   "metadata": {},
   "outputs": [
    {
     "name": "stdout",
     "output_type": "stream",
     "text": [
      "resizing image 1 of 13682...\n",
      "resizing image 101 of 13682...\n",
      "resizing image 201 of 13682...\n",
      "resizing image 301 of 13682...\n",
      "resizing image 401 of 13682...\n",
      "resizing image 501 of 13682...\n",
      "resizing image 601 of 13682...\n",
      "resizing image 701 of 13682...\n",
      "resizing image 801 of 13682...\n",
      "resizing image 901 of 13682...\n",
      "resizing image 1001 of 13682...\n",
      "resizing image 1101 of 13682...\n",
      "resizing image 1201 of 13682...\n",
      "resizing image 1301 of 13682...\n",
      "resizing image 1401 of 13682...\n",
      "resizing image 1501 of 13682...\n",
      "resizing image 1601 of 13682...\n",
      "resizing image 1701 of 13682...\n",
      "resizing image 1801 of 13682...\n",
      "resizing image 1901 of 13682...\n",
      "resizing image 2001 of 13682...\n",
      "resizing image 2101 of 13682...\n",
      "resizing image 2201 of 13682...\n",
      "resizing image 2301 of 13682...\n",
      "resizing image 2401 of 13682...\n",
      "resizing image 2501 of 13682...\n",
      "resizing image 2601 of 13682...\n",
      "resizing image 2701 of 13682...\n",
      "resizing image 2801 of 13682...\n",
      "resizing image 2901 of 13682...\n",
      "resizing image 3001 of 13682...\n",
      "resizing image 3101 of 13682...\n",
      "resizing image 3201 of 13682...\n",
      "resizing image 3301 of 13682...\n",
      "resizing image 3401 of 13682...\n",
      "resizing image 3501 of 13682...\n",
      "resizing image 3601 of 13682...\n",
      "resizing image 3701 of 13682...\n",
      "resizing image 3801 of 13682...\n",
      "resizing image 3901 of 13682...\n",
      "resizing image 4001 of 13682...\n",
      "resizing image 4101 of 13682...\n",
      "resizing image 4201 of 13682...\n",
      "resizing image 4301 of 13682...\n",
      "resizing image 4401 of 13682...\n",
      "resizing image 4501 of 13682...\n",
      "resizing image 4601 of 13682...\n",
      "resizing image 4701 of 13682...\n",
      "resizing image 4801 of 13682...\n",
      "resizing image 4901 of 13682...\n",
      "resizing image 5001 of 13682...\n",
      "resizing image 5101 of 13682...\n",
      "resizing image 5201 of 13682...\n",
      "resizing image 5301 of 13682...\n",
      "resizing image 5401 of 13682...\n",
      "resizing image 5501 of 13682...\n",
      "resizing image 5601 of 13682...\n",
      "resizing image 5701 of 13682...\n",
      "resizing image 5801 of 13682...\n",
      "resizing image 5901 of 13682...\n",
      "resizing image 6001 of 13682...\n",
      "resizing image 6101 of 13682...\n",
      "resizing image 6201 of 13682...\n",
      "resizing image 6301 of 13682...\n",
      "resizing image 6401 of 13682...\n",
      "resizing image 6501 of 13682...\n",
      "resizing image 6601 of 13682...\n",
      "resizing image 6701 of 13682...\n",
      "resizing image 6801 of 13682...\n",
      "resizing image 6901 of 13682...\n",
      "resizing image 7001 of 13682...\n",
      "resizing image 7101 of 13682...\n",
      "resizing image 7201 of 13682...\n",
      "resizing image 7301 of 13682...\n",
      "resizing image 7401 of 13682...\n",
      "resizing image 7501 of 13682...\n",
      "resizing image 7601 of 13682...\n",
      "resizing image 7701 of 13682...\n",
      "resizing image 7801 of 13682...\n",
      "resizing image 7901 of 13682...\n",
      "resizing image 8001 of 13682...\n",
      "resizing image 8101 of 13682...\n",
      "resizing image 8201 of 13682...\n",
      "resizing image 8301 of 13682...\n",
      "resizing image 8401 of 13682...\n",
      "resizing image 8501 of 13682...\n",
      "resizing image 8601 of 13682...\n",
      "resizing image 8701 of 13682...\n",
      "resizing image 8801 of 13682...\n",
      "resizing image 8901 of 13682...\n",
      "resizing image 9001 of 13682...\n",
      "resizing image 9101 of 13682...\n",
      "resizing image 9201 of 13682...\n",
      "resizing image 9301 of 13682...\n",
      "resizing image 9401 of 13682...\n",
      "resizing image 9501 of 13682...\n",
      "resizing image 9601 of 13682...\n",
      "resizing image 9701 of 13682...\n",
      "resizing image 9801 of 13682...\n",
      "resizing image 9901 of 13682...\n",
      "resizing image 10001 of 13682...\n",
      "resizing image 10101 of 13682...\n",
      "resizing image 10201 of 13682...\n",
      "resizing image 10301 of 13682...\n",
      "resizing image 10401 of 13682...\n",
      "resizing image 10501 of 13682...\n",
      "resizing image 10601 of 13682...\n",
      "resizing image 10701 of 13682...\n",
      "resizing image 10801 of 13682...\n",
      "resizing image 10901 of 13682...\n",
      "resizing image 11001 of 13682...\n",
      "resizing image 11101 of 13682...\n",
      "resizing image 11201 of 13682...\n",
      "resizing image 11301 of 13682...\n",
      "resizing image 11401 of 13682...\n",
      "resizing image 11501 of 13682...\n",
      "resizing image 11601 of 13682...\n",
      "resizing image 11701 of 13682...\n",
      "resizing image 11801 of 13682...\n",
      "resizing image 11901 of 13682...\n",
      "resizing image 12001 of 13682...\n",
      "resizing image 12101 of 13682...\n",
      "resizing image 12201 of 13682...\n",
      "resizing image 12301 of 13682...\n",
      "resizing image 12401 of 13682...\n",
      "resizing image 12501 of 13682...\n",
      "resizing image 12601 of 13682...\n",
      "resizing image 12701 of 13682...\n",
      "resizing image 12801 of 13682...\n",
      "resizing image 12901 of 13682...\n",
      "resizing image 13001 of 13682...\n",
      "resizing image 13101 of 13682...\n",
      "resizing image 13201 of 13682...\n",
      "resizing image 13301 of 13682...\n",
      "resizing image 13401 of 13682...\n",
      "resizing image 13501 of 13682...\n",
      "resizing image 13601 of 13682...\n",
      "CPU times: user 9min 54s, sys: 50.9 s, total: 10min 45s\n",
      "Wall time: 13min 38s\n"
     ]
    }
   ],
   "source": [
    "%%time\n",
    "\n",
    "img_array = []\n",
    "\n",
    "for i in range(len(img_lst)):\n",
    "    \n",
    "    #first half of images are authentic\n",
    "    if i < len(auth) :\n",
    "        is_rep = 'auth'\n",
    "    #second half are replicas\n",
    "    else:\n",
    "        is_rep = 'rep'\n",
    "    \n",
    "    #append as a list \n",
    "    #so that we can shuffle later without affecting labels\n",
    "    img_array.append([resize_img(img_lst[i], is_rep),is_rep])\n",
    "    \n",
    "    #print to show progress\n",
    "    if i%100==0:\n",
    "        print(f\"resizing image {i+1} of {len(img_lst)}...\")"
   ]
  },
  {
   "cell_type": "code",
   "execution_count": 11,
   "metadata": {},
   "outputs": [],
   "source": [
    "#shuffle data\n",
    "random.shuffle(img_array)\n",
    "\n",
    "X = []\n",
    "y = []\n",
    "\n",
    "#unpack each list and append into appropriate lists\n",
    "for features, label in img_array:\n",
    "    X.append(features)\n",
    "    y.append(label)\n",
    "\n",
    "\n",
    "#credit: https://towardsdatascience.com/all-the-steps-to-build-your-first-image-classifier-with-code-cf244b015799"
   ]
  },
  {
   "cell_type": "code",
   "execution_count": 12,
   "metadata": {},
   "outputs": [
    {
     "data": {
      "image/png": "[encoded data removed]",
      "text/plain": [
       "<Figure size 864x864 with 5 Axes>"
      ]
     },
     "metadata": {},
     "output_type": "display_data"
    }
   ],
   "source": [
    "#let's take a look at our resized images\n",
    "plt.figure(figsize=(12,12))\n",
    "for i in range(5):\n",
    "    plt.subplot(5,5,i+1)\n",
    "    plt.xticks([])\n",
    "    plt.yticks([])\n",
    "    plt.grid(False)\n",
    "    plt.imshow(X[i])\n",
    "    plt.xlabel(y[i])"
   ]
  },
  {
   "cell_type": "code",
   "execution_count": 13,
   "metadata": {},
   "outputs": [
    {
     "data": {
      "text/plain": [
       "['rep', 'auth', 'auth', 'auth', 'auth']"
      ]
     },
     "execution_count": 13,
     "metadata": {},
     "output_type": "execute_result"
    }
   ],
   "source": [
    "#check our labels\n",
    "y[:5]"
   ]
  },
  {
   "cell_type": "code",
   "execution_count": 15,
   "metadata": {},
   "outputs": [
    {
     "data": {
      "image/png": "[encoded data removed]",
      "text/plain": [
       "<Figure size 432x288 with 1 Axes>"
      ]
     },
     "metadata": {
      "needs_background": "light"
     },
     "output_type": "display_data"
    }
   ],
   "source": [
    "plt.hist(y);"
   ]
  },
  {
   "cell_type": "code",
   "execution_count": 16,
   "metadata": {},
   "outputs": [],
   "source": [
    "#convert y to dummy\n",
    "y = [1 if label == 'rep' else 0 for label in y ]"
   ]
  },
  {
   "cell_type": "code",
   "execution_count": 17,
   "metadata": {},
   "outputs": [
    {
     "data": {
      "text/plain": [
       "[1, 0, 0, 0, 0]"
      ]
     },
     "execution_count": 17,
     "metadata": {},
     "output_type": "execute_result"
    }
   ],
   "source": [
    "#check with above \n",
    "y[:5]"
   ]
  },
  {
   "cell_type": "code",
   "execution_count": 18,
   "metadata": {},
   "outputs": [],
   "source": [
    "#convert list to np array\n",
    "X = np.array(X)\n",
    "y = np.array(y)\n",
    "\n",
    "#make sure data are all float to prevent any errors when we feed it into machine\n",
    "X = X.astype('float32')\n",
    "\n",
    "#scale the data\n",
    "X /= 255"
   ]
  },
  {
   "cell_type": "code",
   "execution_count": 19,
   "metadata": {
    "scrolled": false
   },
   "outputs": [
    {
     "name": "stdout",
     "output_type": "stream",
     "text": [
      "(13682, 150, 150, 3)\n",
      "(13682,)\n"
     ]
    }
   ],
   "source": [
    "#see final shape of arrays\n",
    "print(X.shape)\n",
    "print(y.shape)"
   ]
  },
  {
   "cell_type": "markdown",
   "metadata": {},
   "source": [
    "## Train Test Split"
   ]
  },
  {
   "cell_type": "code",
   "execution_count": 20,
   "metadata": {},
   "outputs": [
    {
     "name": "stdout",
     "output_type": "stream",
     "text": [
      "Shape of X_train:  (12313, 150, 150, 3)\n",
      "Shape of y_train:  (12313,)\n",
      "Shape of X_test:  (1369, 150, 150, 3)\n",
      "Shape of y_test:  (1369,)\n"
     ]
    }
   ],
   "source": [
    "# we are doing an 90/10 split\n",
    "X_train, X_test, y_train, y_test = train_test_split(X,y, test_size=0.1, random_state = 42)\n",
    "\n",
    "print(\"Shape of X_train: \",X_train.shape)\n",
    "print(\"Shape of y_train: \",y_train.shape)\n",
    "\n",
    "print(\"Shape of X_test: \",X_test.shape)\n",
    "print(\"Shape of y_test: \",y_test.shape)"
   ]
  },
  {
   "cell_type": "markdown",
   "metadata": {},
   "source": [
    "## Save Image Array Data to npy"
   ]
  },
  {
   "cell_type": "code",
   "execution_count": 21,
   "metadata": {},
   "outputs": [],
   "source": [
    "#save X\n",
    "np.save('../datasets/npy/X_train.npy', X_train)\n",
    "np.save('../datasets/npy/X_test.npy', X_test)\n",
    "\n",
    "#save y\n",
    "np.save('../datasets/npy/y_train.npy',y_train)\n",
    "np.save('../datasets/npy/y_test.npy',y_test)"
   ]
  }
 ],
 "metadata": {
  "kernelspec": {
   "display_name": "Python 3",
   "language": "python",
   "name": "python3"
  },
  "language_info": {
   "codemirror_mode": {
    "name": "ipython",
    "version": 3
   },
   "file_extension": ".py",
   "mimetype": "text/x-python",
   "name": "python",
   "nbconvert_exporter": "python",
   "pygments_lexer": "ipython3",
   "version": "3.7.6"
  }
 },
 "nbformat": 4,
 "nbformat_minor": 4
}
