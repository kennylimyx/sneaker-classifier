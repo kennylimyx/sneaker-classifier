{
 "cells": [
  {
   "cell_type": "markdown",
   "metadata": {},
   "source": [
    "# Capstone Project  - Book 1: Clasifying real vs fake sneakers via images\n",
    "\n",
    "## Problem Statement\n",
    "\n",
    "The sneaker resale market is an estimated 2 billion USD in secondary market in 2019. Estimated to be 6 billion by 2025 according to research firm, Cowen & Co. Due to the lucrative nature of these commodities, there is the inevitible rise of counterfeits. The counterfeit sneakers industry are a $450 billion market and we want to be able to differentiate real and fake sneakers. \n",
    "\n",
    "Our task is to build a classifier that is able to differentiate between real and fake sneakers. \n",
    "Our primary audience will be the sneaker brands. Some of the negative impacts of counterfeit sneakers includes undercutting sales of brands, damaging reputation and dealing with the lashback from consumers.\n",
    "\n",
    "To do so, we will first be scrapping data from reddit and other sneaker resources and using classification models such as CNN and xxxx to diffentiate between the authentic and the replicas. We will measure our success using several classification metrics including xxxx and yyyy. \n",
    "\n",
    "With this, we also hope to help buyers inform themselves and to stay away from counterfeits. Empowering the public with information, they will be able to make the right decision which could help to reduce the lucrative nature of fake sneakers. \n",
    "\n",
    "\n",
    "## Executive Summary\n",
    "\n",
    "As the data science team in Nutrino, we have been tasked to build a classifier to improve core product of the company, which is to provide nutrition related data services and analytics. We are also tasked to identify patterns on 2 currently trending diets, keto and vegan. \n",
    "\n",
    "Our classifier was successful in predicting at an above 90% accuracy score. We also identified patterns in the motivations and preferences of the 2 groups of subredditors, which will help determine the kind of customer engagement with teach group. \n",
    "\n",
    "\n",
    "## Notebooks:\n",
    "- [Data Scrapping and Cleaning](./book1_data_scrapping_cleaning.ipynb)\n",
    "- [EDA](./book2_eda.ipynb)\n",
    "- [Modeling and Recommendations](./book3_preprocesing_modeling_recommendations.ipynb)\n",
    "\n",
    "\n",
    "## Contents:\n",
    "- [Import Libraries](#Import-Libraries)\n",
    "- [Data Scrapping](#Data-Scrapping)\n",
    "- [Data Cleaning](#Data-Cleaning)\n",
    "- [Save Data to CSV](#Save-Data-to-CSV)"
   ]
  },
  {
   "cell_type": "markdown",
   "metadata": {},
   "source": [
    "## Import Libraries"
   ]
  },
  {
   "cell_type": "code",
   "execution_count": 1,
   "metadata": {
    "collapsed": true
   },
   "outputs": [],
   "source": [
    "import pandas as pd\n",
    "import datetime\n",
    "import praw\n",
    "import requests\n",
    "import re\n",
    "from PIL import Image\n",
    "import matplotlib.pyplot as plt\n",
    "import matplotlib.image as img\n",
    "from numpy import asarray"
   ]
  },
  {
   "cell_type": "markdown",
   "metadata": {},
   "source": [
    "## Data Scrapping"
   ]
  },
  {
   "cell_type": "markdown",
   "metadata": {},
   "source": [
    "#### Get data from subreddits"
   ]
  },
  {
   "cell_type": "code",
   "execution_count": 2,
   "metadata": {},
   "outputs": [
    {
     "data": {
      "text/plain": [
       "True"
      ]
     },
     "execution_count": 2,
     "metadata": {},
     "output_type": "execute_result"
    }
   ],
   "source": [
    "#here we input our credentials for read_only access\n",
    "reddit = praw.Reddit(\n",
    "    client_id = 'PnIVv6xLd0h0Bg',\n",
    "    client_secret = 'u9a2bBX0YmoDgXcP6N-RRfhLvBg',\n",
    "    user_agent = 'kate'\n",
    ")\n",
    "\n",
    "#check our access\n",
    "reddit.read_only "
   ]
  },
  {
   "cell_type": "code",
   "execution_count": 3,
   "metadata": {
    "collapsed": true
   },
   "outputs": [],
   "source": [
    "#create lists to append our data\n",
    "image_urls = []\n",
    "titles = []\n",
    "scores = []\n",
    "time = []\n",
    "ids = []\n",
    "rep_label = []"
   ]
  },
  {
   "cell_type": "code",
   "execution_count": 15,
   "metadata": {},
   "outputs": [
    {
     "name": "stdout",
     "output_type": "stream",
     "text": [
      "https://www.reddit.com/r/Sneakers/comments/hmkv6z/i_am_looking_for_a_pair_of_custom_sneakerscan/\n"
     ]
    }
   ],
   "source": [
    "sub = reddit.subreddit(\"sneakers\")\n",
    "for post in sub.new(limit=1):\n",
    "    print(post.url)"
   ]
  },
  {
   "cell_type": "code",
   "execution_count": 4,
   "metadata": {},
   "outputs": [],
   "source": [
    "sub_reds = [\"repsneakers\",\"sneakermarket\"]\n",
    "\n",
    "for subr in sub_reds:\n",
    "    sub_red = reddit.subreddit(subr)\n",
    "    \n",
    "    for post in sub_red.new(limit=1000):\n",
    "        image_urls.append(post.url.encode())\n",
    "        titles.append(post.title.encode())\n",
    "        scores.append(post.score)\n",
    "        time.append(datetime.datetime.fromtimestamp(post.created))\n",
    "        ids.append(post.id)\n",
    "\n",
    "        if subr == \"repsneakers\":\n",
    "            rep_label.append(1)\n",
    "        else:\n",
    "            rep_label.append(0)\n",
    "            \n",
    "#credit: https://medium.com/better-programming/scraping-memes-from-reddit-55842273b3e1"
   ]
  },
  {
   "cell_type": "markdown",
   "metadata": {},
   "source": [
    "#### Download Images"
   ]
  },
  {
   "cell_type": "code",
   "execution_count": null,
   "metadata": {},
   "outputs": [],
   "source": [
    "\n"
   ]
  },
  {
   "cell_type": "markdown",
   "metadata": {},
   "source": [
    "#### Convert to dataframe"
   ]
  },
  {
   "cell_type": "code",
   "execution_count": 5,
   "metadata": {
    "collapsed": true
   },
   "outputs": [],
   "source": [
    "df = pd.DataFrame(list(zip(ids,titles,image_urls,scores,rep_label,time)),columns=['id','title','image','scores','rep','time'])"
   ]
  },
  {
   "cell_type": "markdown",
   "metadata": {},
   "source": [
    "## Data Cleaning"
   ]
  },
  {
   "cell_type": "code",
   "execution_count": 6,
   "metadata": {},
   "outputs": [
    {
     "name": "stdout",
     "output_type": "stream",
     "text": [
      "(1977, 6)\n",
      "1966\n"
     ]
    }
   ],
   "source": [
    "print(df.shape)\n",
    "\n",
    "df.drop_duplicates(subset=['title'],inplace=True)\n",
    "print(len(df['title'].unique()))"
   ]
  },
  {
   "cell_type": "code",
   "execution_count": 7,
   "metadata": {},
   "outputs": [
    {
     "data": {
      "text/plain": [
       "(1966, 6)"
      ]
     },
     "execution_count": 7,
     "metadata": {},
     "output_type": "execute_result"
    }
   ],
   "source": [
    "#check changes\n",
    "df.shape"
   ]
  },
  {
   "cell_type": "code",
   "execution_count": 8,
   "metadata": {
    "scrolled": false
   },
   "outputs": [
    {
     "data": {
      "text/html": [
       "<div>\n",
       "<style scoped>\n",
       "    .dataframe tbody tr th:only-of-type {\n",
       "        vertical-align: middle;\n",
       "    }\n",
       "\n",
       "    .dataframe tbody tr th {\n",
       "        vertical-align: top;\n",
       "    }\n",
       "\n",
       "    .dataframe thead th {\n",
       "        text-align: right;\n",
       "    }\n",
       "</style>\n",
       "<table border=\"1\" class=\"dataframe\">\n",
       "  <thead>\n",
       "    <tr style=\"text-align: right;\">\n",
       "      <th></th>\n",
       "      <th>id</th>\n",
       "      <th>title</th>\n",
       "      <th>image</th>\n",
       "      <th>scores</th>\n",
       "      <th>rep</th>\n",
       "      <th>time</th>\n",
       "    </tr>\n",
       "  </thead>\n",
       "  <tbody>\n",
       "    <tr>\n",
       "      <th>0</th>\n",
       "      <td>hmkk56</td>\n",
       "      <td>b'Where can I find a good pair of Dior B23\\xe2...</td>\n",
       "      <td>b'https://www.reddit.com/r/Repsneakers/comment...</td>\n",
       "      <td>2</td>\n",
       "      <td>1</td>\n",
       "      <td>2020-07-07 16:55:44</td>\n",
       "    </tr>\n",
       "    <tr>\n",
       "      <th>1</th>\n",
       "      <td>hmkjzd</td>\n",
       "      <td>b'[QC] Travis Scott Dunk'</td>\n",
       "      <td>b'https://www.reddit.com/r/Repsneakers/comment...</td>\n",
       "      <td>1</td>\n",
       "      <td>1</td>\n",
       "      <td>2020-07-07 16:55:28</td>\n",
       "    </tr>\n",
       "    <tr>\n",
       "      <th>2</th>\n",
       "      <td>hmkiky</td>\n",
       "      <td>b'OW AF1 OG Batch'</td>\n",
       "      <td>b'https://www.reddit.com/r/Repsneakers/comment...</td>\n",
       "      <td>1</td>\n",
       "      <td>1</td>\n",
       "      <td>2020-07-07 16:53:02</td>\n",
       "    </tr>\n",
       "    <tr>\n",
       "      <th>3</th>\n",
       "      <td>hmkiiu</td>\n",
       "      <td>b'[QC] H12 Fog RAID'</td>\n",
       "      <td>b'https://imgur.com/a/PAPK5nO'</td>\n",
       "      <td>1</td>\n",
       "      <td>1</td>\n",
       "      <td>2020-07-07 16:52:57</td>\n",
       "    </tr>\n",
       "    <tr>\n",
       "      <th>4</th>\n",
       "      <td>hmkid0</td>\n",
       "      <td>b'First time using GD-EMS'</td>\n",
       "      <td>b'https://www.reddit.com/r/Repsneakers/comment...</td>\n",
       "      <td>1</td>\n",
       "      <td>1</td>\n",
       "      <td>2020-07-07 16:52:38</td>\n",
       "    </tr>\n",
       "  </tbody>\n",
       "</table>\n",
       "</div>"
      ],
      "text/plain": [
       "       id                                              title  \\\n",
       "0  hmkk56  b'Where can I find a good pair of Dior B23\\xe2...   \n",
       "1  hmkjzd                          b'[QC] Travis Scott Dunk'   \n",
       "2  hmkiky                                 b'OW AF1 OG Batch'   \n",
       "3  hmkiiu                               b'[QC] H12 Fog RAID'   \n",
       "4  hmkid0                         b'First time using GD-EMS'   \n",
       "\n",
       "                                               image  scores  rep  \\\n",
       "0  b'https://www.reddit.com/r/Repsneakers/comment...       2    1   \n",
       "1  b'https://www.reddit.com/r/Repsneakers/comment...       1    1   \n",
       "2  b'https://www.reddit.com/r/Repsneakers/comment...       1    1   \n",
       "3                     b'https://imgur.com/a/PAPK5nO'       1    1   \n",
       "4  b'https://www.reddit.com/r/Repsneakers/comment...       1    1   \n",
       "\n",
       "                 time  \n",
       "0 2020-07-07 16:55:44  \n",
       "1 2020-07-07 16:55:28  \n",
       "2 2020-07-07 16:53:02  \n",
       "3 2020-07-07 16:52:57  \n",
       "4 2020-07-07 16:52:38  "
      ]
     },
     "execution_count": 8,
     "metadata": {},
     "output_type": "execute_result"
    }
   ],
   "source": [
    "#what is score?\n",
    "df.head()"
   ]
  },
  {
   "cell_type": "markdown",
   "metadata": {},
   "source": [
    "## Save to CSV"
   ]
  },
  {
   "cell_type": "code",
   "execution_count": 10,
   "metadata": {
    "collapsed": true
   },
   "outputs": [],
   "source": [
    "df.to_csv('./datasets/data_2000.csv')"
   ]
  },
  {
   "cell_type": "markdown",
   "metadata": {},
   "source": [
    "## Practice with Pillow"
   ]
  },
  {
   "cell_type": "markdown",
   "metadata": {},
   "source": [
    "#how to open an image\n",
    "image = Image.open('rep_royal_back.jpg')\n",
    "\n",
    "print(image.format)\n",
    "print(image.mode)\n",
    "print(image.size)\n",
    "image.show()"
   ]
  },
  {
   "cell_type": "markdown",
   "metadata": {},
   "source": [
    "#load image as pixel array\n",
    "data = img.imread('rep_royal_back.jpg')\n",
    "\n",
    "#summarize shape of pixel array\n",
    "print(data.dtype)\n",
    "print(data.shape)\n",
    "\n",
    "#display array as image\n",
    "plt.imshow(data)\n",
    "plt.show()"
   ]
  },
  {
   "cell_type": "markdown",
   "metadata": {},
   "source": [
    "# convert image to numpy array\n",
    "data = asarray(image)\n",
    "\n",
    "# summarize shape\n",
    "print(data.shape)\n",
    "\n",
    "# create Pillow image\n",
    "image2 = Image.fromarray(data)\n",
    "\n",
    "# summarize image details\n",
    "print(image2.format)\n",
    "print(image2.mode)\n",
    "print(image2.size)"
   ]
  },
  {
   "cell_type": "markdown",
   "metadata": {
    "collapsed": true
   },
   "source": [
    "image.convert(mode='L').show()"
   ]
  },
  {
   "cell_type": "code",
   "execution_count": null,
   "metadata": {
    "collapsed": true
   },
   "outputs": [],
   "source": []
  }
 ],
 "metadata": {
  "kernelspec": {
   "display_name": "Python 3",
   "language": "python",
   "name": "python3"
  },
  "language_info": {
   "codemirror_mode": {
    "name": "ipython",
    "version": 3
   },
   "file_extension": ".py",
   "mimetype": "text/x-python",
   "name": "python",
   "nbconvert_exporter": "python",
   "pygments_lexer": "ipython3",
   "version": "3.6.3"
  }
 },
 "nbformat": 4,
 "nbformat_minor": 2
}
